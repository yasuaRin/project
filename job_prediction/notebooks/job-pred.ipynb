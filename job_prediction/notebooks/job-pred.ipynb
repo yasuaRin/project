import pandas as pd

# Load dataset
dataset = pd.read_csv('../ds/job_dataset.csv')
print(f"Original shape: {dataset.shape}")

# Check missing values first
print("Missing values per column:")
print(dataset.isnull().sum())

# Remove rows only if ALL values are missing
dataset.dropna(how='all', inplace=True)

# For specific columns, you might want to fill instead of drop
# dataset['salary'].fillna(dataset['salary'].median(), inplace=True)

# Check duplicates
print(f"Duplicates found: {dataset.duplicated().sum()}")
dataset.drop_duplicates(inplace=True)

print(f"Final shape: {dataset.shape}")
dataset.head()import pandas as pd

# Load dataset
dataset = pd.read_csv('../ds/job_dataset.csv')
print(f"Original shape: {dataset.shape}")

# Check missing values first
print("Missing values per column:")
print(dataset.isnull().sum())

# Remove rows only if ALL values are missing
dataset.dropna(how='all', inplace=True)

# For specific columns, you might want to fill instead of drop
# dataset['salary'].fillna(dataset['salary'].median(), inplace=True)

# Check duplicates
print(f"Duplicates found: {dataset.duplicated().sum()}")
dataset.drop_duplicates(inplace=True)

print(f"Final shape: {dataset.shape}")

from sqlalchemy import create_engine
import pandas as pd

# Database connection parameters
DB_HOST = 'localhost'  # or your server IP
DB_PORT = '5432'       # default PostgreSQL port
DB_NAME = 'your_database_name'  # replace with your database name
DB_USER = 'your_username'       # replace with your username
DB_PASSWORD = 'your_password'   # replace with your password

# Create connection string
connection_string = f'postgresql://{DB_USER}:{DB_PASSWORD}@{DB_HOST}:{DB_PORT}/{DB_NAME}'

# Create engine
engine = create_engine(connection_string)

# Save dataset to PostgreSQL
table_name = 'job_dataset_cleaned'  # name for your table

try:
    dataset.to_sql(table_name, engine, if_exists='replace', index=False)
    print(f"✅ Dataset successfully saved to PostgreSQL table: {table_name}")
    print(f"📊 Saved {len(dataset)} rows and {len(dataset.columns)} columns")
except Exception as e:
    print(f"❌ Error saving to database: {e}")