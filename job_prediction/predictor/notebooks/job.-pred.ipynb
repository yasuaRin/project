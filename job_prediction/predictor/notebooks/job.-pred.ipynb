{
 "cells": [
  {
   "cell_type": "code",
   "execution_count": 16,
   "id": "fe789fe1",
   "metadata": {},
   "outputs": [
    {
     "name": "stdout",
     "output_type": "stream",
     "text": [
      "Original shape: (17880, 18)\n",
      "Missing values per column:\n",
      "job_id                     0\n",
      "title                      0\n",
      "location                 346\n",
      "department             11547\n",
      "salary_range           15012\n",
      "company_profile         3308\n",
      "description                1\n",
      "requirements            2696\n",
      "benefits                7212\n",
      "telecommuting              0\n",
      "has_company_logo           0\n",
      "has_questions              0\n",
      "employment_type         3471\n",
      "required_experience     7050\n",
      "required_education      8105\n",
      "industry                4903\n",
      "function                6455\n",
      "fraudulent                 0\n",
      "dtype: int64\n",
      "Shape after dropping nulls: (774, 18)\n",
      "Duplicates found: 0\n",
      "Final shape: (774, 18)\n",
      "\n",
      "Cleaned dataset preview:\n"
     ]
    },
    {
     "data": {
      "text/html": [
       "<div>\n",
       "<style scoped>\n",
       "    .dataframe tbody tr th:only-of-type {\n",
       "        vertical-align: middle;\n",
       "    }\n",
       "\n",
       "    .dataframe tbody tr th {\n",
       "        vertical-align: top;\n",
       "    }\n",
       "\n",
       "    .dataframe thead th {\n",
       "        text-align: right;\n",
       "    }\n",
       "</style>\n",
       "<table border=\"1\" class=\"dataframe\">\n",
       "  <thead>\n",
       "    <tr style=\"text-align: right;\">\n",
       "      <th></th>\n",
       "      <th>job_id</th>\n",
       "      <th>title</th>\n",
       "      <th>location</th>\n",
       "      <th>department</th>\n",
       "      <th>salary_range</th>\n",
       "      <th>company_profile</th>\n",
       "      <th>description</th>\n",
       "      <th>requirements</th>\n",
       "      <th>benefits</th>\n",
       "      <th>telecommuting</th>\n",
       "      <th>has_company_logo</th>\n",
       "      <th>has_questions</th>\n",
       "      <th>employment_type</th>\n",
       "      <th>required_experience</th>\n",
       "      <th>required_education</th>\n",
       "      <th>industry</th>\n",
       "      <th>function</th>\n",
       "      <th>fraudulent</th>\n",
       "    </tr>\n",
       "  </thead>\n",
       "  <tbody>\n",
       "    <tr>\n",
       "      <th>6</th>\n",
       "      <td>7</td>\n",
       "      <td>Head of Content (m/f)</td>\n",
       "      <td>DE, BE, Berlin</td>\n",
       "      <td>ANDROIDPIT</td>\n",
       "      <td>20000-28000</td>\n",
       "      <td>Founded in 2009, the Fonpit AG rose with its i...</td>\n",
       "      <td>Your Responsibilities: Manage the English-spea...</td>\n",
       "      <td>Your Know-How:                                ...</td>\n",
       "      <td>Your Benefits: Being part of a fast-growing co...</td>\n",
       "      <td>0</td>\n",
       "      <td>1</td>\n",
       "      <td>1</td>\n",
       "      <td>Full-time</td>\n",
       "      <td>Mid-Senior level</td>\n",
       "      <td>Master's Degree</td>\n",
       "      <td>Online Media</td>\n",
       "      <td>Management</td>\n",
       "      <td>0</td>\n",
       "    </tr>\n",
       "    <tr>\n",
       "      <th>15</th>\n",
       "      <td>16</td>\n",
       "      <td>VP of Sales - Vault Dragon</td>\n",
       "      <td>SG, 01, Singapore</td>\n",
       "      <td>Sales</td>\n",
       "      <td>120000-150000</td>\n",
       "      <td>Jungle Ventures is the leading Singapore based...</td>\n",
       "      <td>About Vault Dragon Vault Dragon is Dropbox for...</td>\n",
       "      <td>Key Superpowers3-5 years of high-pressure sale...</td>\n",
       "      <td>Basic: SGD 120,000Equity negotiable for a rock...</td>\n",
       "      <td>0</td>\n",
       "      <td>1</td>\n",
       "      <td>1</td>\n",
       "      <td>Full-time</td>\n",
       "      <td>Executive</td>\n",
       "      <td>Bachelor's Degree</td>\n",
       "      <td>Facilities Services</td>\n",
       "      <td>Sales</td>\n",
       "      <td>0</td>\n",
       "    </tr>\n",
       "    <tr>\n",
       "      <th>23</th>\n",
       "      <td>24</td>\n",
       "      <td>Vice President, Sales and Sponsorship (Busines...</td>\n",
       "      <td>US, CA, Carlsbad</td>\n",
       "      <td>Businessfriend.com</td>\n",
       "      <td>100000-120000</td>\n",
       "      <td>WDM Group is an innovative, forward thinking d...</td>\n",
       "      <td>#URL_eda2500ddcedb60957fcd7f5b164e092966f8c4e8...</td>\n",
       "      <td>Job Requirements:A reputation as a \"go-getter\"...</td>\n",
       "      <td>Businessfriend will offer a competitive six fi...</td>\n",
       "      <td>0</td>\n",
       "      <td>1</td>\n",
       "      <td>0</td>\n",
       "      <td>Full-time</td>\n",
       "      <td>Executive</td>\n",
       "      <td>Unspecified</td>\n",
       "      <td>Internet</td>\n",
       "      <td>Sales</td>\n",
       "      <td>0</td>\n",
       "    </tr>\n",
       "    <tr>\n",
       "      <th>98</th>\n",
       "      <td>99</td>\n",
       "      <td>IC&amp;E Technician</td>\n",
       "      <td>US, , Stocton, CA</td>\n",
       "      <td>Oil &amp; Energy</td>\n",
       "      <td>95000-115000</td>\n",
       "      <td>...</td>\n",
       "      <td>IC&amp;amp;E Technician | Bakersfield, CA Mt. Poso...</td>\n",
       "      <td>QualificationsKnowledge, Skills &amp;amp; Abilitie...</td>\n",
       "      <td>BENEFITSWhat is offered:Competitive compensati...</td>\n",
       "      <td>0</td>\n",
       "      <td>1</td>\n",
       "      <td>1</td>\n",
       "      <td>Full-time</td>\n",
       "      <td>Mid-Senior level</td>\n",
       "      <td>High School or equivalent</td>\n",
       "      <td>Oil &amp; Energy</td>\n",
       "      <td>Other</td>\n",
       "      <td>1</td>\n",
       "    </tr>\n",
       "    <tr>\n",
       "      <th>102</th>\n",
       "      <td>103</td>\n",
       "      <td>Marketing Administrator</td>\n",
       "      <td>GB, WAR, Coventry</td>\n",
       "      <td>Marketplace</td>\n",
       "      <td>15000-18000</td>\n",
       "      <td>Renewable Energy and Environmental Protection ...</td>\n",
       "      <td>The job is to support the growth of the #URL_9...</td>\n",
       "      <td>Computer literateAble to work with HTML, altho...</td>\n",
       "      <td>For a suitably motivated and success orientate...</td>\n",
       "      <td>1</td>\n",
       "      <td>1</td>\n",
       "      <td>0</td>\n",
       "      <td>Full-time</td>\n",
       "      <td>Entry level</td>\n",
       "      <td>Bachelor's Degree</td>\n",
       "      <td>Internet</td>\n",
       "      <td>Marketing</td>\n",
       "      <td>0</td>\n",
       "    </tr>\n",
       "  </tbody>\n",
       "</table>\n",
       "</div>"
      ],
      "text/plain": [
       "     job_id                                              title  \\\n",
       "6         7                              Head of Content (m/f)   \n",
       "15       16                         VP of Sales - Vault Dragon   \n",
       "23       24  Vice President, Sales and Sponsorship (Busines...   \n",
       "98       99                                    IC&E Technician   \n",
       "102     103                            Marketing Administrator   \n",
       "\n",
       "              location          department   salary_range  \\\n",
       "6       DE, BE, Berlin          ANDROIDPIT    20000-28000   \n",
       "15   SG, 01, Singapore               Sales  120000-150000   \n",
       "23    US, CA, Carlsbad  Businessfriend.com  100000-120000   \n",
       "98   US, , Stocton, CA        Oil & Energy   95000-115000   \n",
       "102  GB, WAR, Coventry         Marketplace    15000-18000   \n",
       "\n",
       "                                       company_profile  \\\n",
       "6    Founded in 2009, the Fonpit AG rose with its i...   \n",
       "15   Jungle Ventures is the leading Singapore based...   \n",
       "23   WDM Group is an innovative, forward thinking d...   \n",
       "98                                                 ...   \n",
       "102  Renewable Energy and Environmental Protection ...   \n",
       "\n",
       "                                           description  \\\n",
       "6    Your Responsibilities: Manage the English-spea...   \n",
       "15   About Vault Dragon Vault Dragon is Dropbox for...   \n",
       "23   #URL_eda2500ddcedb60957fcd7f5b164e092966f8c4e8...   \n",
       "98   IC&amp;E Technician | Bakersfield, CA Mt. Poso...   \n",
       "102  The job is to support the growth of the #URL_9...   \n",
       "\n",
       "                                          requirements  \\\n",
       "6    Your Know-How:                                ...   \n",
       "15   Key Superpowers3-5 years of high-pressure sale...   \n",
       "23   Job Requirements:A reputation as a \"go-getter\"...   \n",
       "98   QualificationsKnowledge, Skills &amp; Abilitie...   \n",
       "102  Computer literateAble to work with HTML, altho...   \n",
       "\n",
       "                                              benefits  telecommuting  \\\n",
       "6    Your Benefits: Being part of a fast-growing co...              0   \n",
       "15   Basic: SGD 120,000Equity negotiable for a rock...              0   \n",
       "23   Businessfriend will offer a competitive six fi...              0   \n",
       "98   BENEFITSWhat is offered:Competitive compensati...              0   \n",
       "102  For a suitably motivated and success orientate...              1   \n",
       "\n",
       "     has_company_logo  has_questions employment_type required_experience  \\\n",
       "6                   1              1       Full-time    Mid-Senior level   \n",
       "15                  1              1       Full-time           Executive   \n",
       "23                  1              0       Full-time           Executive   \n",
       "98                  1              1       Full-time    Mid-Senior level   \n",
       "102                 1              0       Full-time         Entry level   \n",
       "\n",
       "            required_education             industry    function  fraudulent  \n",
       "6              Master's Degree         Online Media  Management           0  \n",
       "15           Bachelor's Degree  Facilities Services       Sales           0  \n",
       "23                 Unspecified             Internet       Sales           0  \n",
       "98   High School or equivalent         Oil & Energy       Other           1  \n",
       "102          Bachelor's Degree             Internet   Marketing           0  "
      ]
     },
     "execution_count": 16,
     "metadata": {},
     "output_type": "execute_result"
    }
   ],
   "source": [
    "import pandas as pd\n",
    "\n",
    "# Load the dataset\n",
    "dataset = pd.read_csv('../ds/job_dataset.csv')\n",
    "print(f\"Original shape: {dataset.shape}\")\n",
    "\n",
    "# Check missing values per column\n",
    "print(\"Missing values per column:\")\n",
    "print(dataset.isnull().sum())\n",
    "\n",
    "# Drop rows with any null values\n",
    "dataset.dropna(inplace=True)\n",
    "print(f\"Shape after dropping nulls: {dataset.shape}\")\n",
    "\n",
    "# Check and drop duplicates\n",
    "print(f\"Duplicates found: {dataset.duplicated().sum()}\")\n",
    "dataset.drop_duplicates(inplace=True)\n",
    "\n",
    "# Final cleaned dataset\n",
    "print(f\"Final shape: {dataset.shape}\")\n",
    "print(\"\\nCleaned dataset preview:\")\n",
    "dataset.head()"
   ]
  },
  {
   "cell_type": "code",
   "execution_count": 17,
   "id": "f516ecac",
   "metadata": {},
   "outputs": [
    {
     "name": "stdout",
     "output_type": "stream",
     "text": [
      "\n",
      "✅ Cleaned dataset saved as 'job_dataset_cleaned.csv'\n"
     ]
    }
   ],
   "source": [
    "dataset.to_csv('../ds/job_dataset_cleaned.csv', index=False)\n",
    "print(\"\\n✅ Cleaned dataset saved as 'job_dataset_cleaned.csv'\")"
   ]
  },
  {
   "cell_type": "code",
   "execution_count": 2,
   "id": "7fc4d331",
   "metadata": {},
   "outputs": [
    {
     "name": "stderr",
     "output_type": "stream",
     "text": [
      "WARNING: pip is being invoked by an old script wrapper. This will fail in a future version of pip.\n",
      "Please see https://github.com/pypa/pip/issues/5599 for advice on fixing the underlying issue.\n",
      "To avoid this problem you can invoke Python with '-m pip' instead of running pip directly.\n"
     ]
    },
    {
     "data": {
      "text/html": [
       "<pre style=\"white-space:pre;overflow-x:auto;line-height:normal;font-family:Menlo,'DejaVu Sans Mono',consolas,'Courier New',monospace\">Requirement already satisfied: sqlalchemy in c:\\users\\dadia\\.vscode\\python-y2\\project\\job_prediction\\venv\\lib\\site-packages (2.0.41)\n",
       "</pre>\n"
      ],
      "text/plain": [
       "Requirement already satisfied: sqlalchemy in c:\\users\\dadia\\.vscode\\python-y2\\project\\job_prediction\\venv\\lib\\site-packages (2.0.41)\n"
      ]
     },
     "metadata": {},
     "output_type": "display_data"
    },
    {
     "data": {
      "text/html": [
       "<pre style=\"white-space:pre;overflow-x:auto;line-height:normal;font-family:Menlo,'DejaVu Sans Mono',consolas,'Courier New',monospace\">Requirement already satisfied: greenlet&gt;=1 in c:\\users\\dadia\\.vscode\\python-y2\\project\\job_prediction\\venv\\lib\\site-packages (from sqlalchemy) (3.2.3)\n",
       "</pre>\n"
      ],
      "text/plain": [
       "Requirement already satisfied: greenlet>=1 in c:\\users\\dadia\\.vscode\\python-y2\\project\\job_prediction\\venv\\lib\\site-packages (from sqlalchemy) (3.2.3)\n"
      ]
     },
     "metadata": {},
     "output_type": "display_data"
    },
    {
     "data": {
      "text/html": [
       "<pre style=\"white-space:pre;overflow-x:auto;line-height:normal;font-family:Menlo,'DejaVu Sans Mono',consolas,'Courier New',monospace\">Requirement already satisfied: typing-extensions&gt;=4.6.0 in c:\\users\\dadia\\.vscode\\python-y2\\project\\job_prediction\\venv\\lib\\site-packages (from sqlalchemy) (4.14.0)\n",
       "</pre>\n"
      ],
      "text/plain": [
       "Requirement already satisfied: typing-extensions>=4.6.0 in c:\\users\\dadia\\.vscode\\python-y2\\project\\job_prediction\\venv\\lib\\site-packages (from sqlalchemy) (4.14.0)\n"
      ]
     },
     "metadata": {},
     "output_type": "display_data"
    },
    {
     "data": {
      "text/html": [
       "<pre style=\"white-space:pre;overflow-x:auto;line-height:normal;font-family:Menlo,'DejaVu Sans Mono',consolas,'Courier New',monospace\">\n",
       "<span style=\"font-weight: bold\">[</span><span style=\"color: #000080; text-decoration-color: #000080; background-color: #ffffff\">notice</span><span style=\"color: #000000; text-decoration-color: #000000; background-color: #ffffff; font-weight: bold\">]</span><span style=\"color: #000000; text-decoration-color: #000000; background-color: #ffffff\"> A new release of pip is available: </span><span style=\"color: #800000; text-decoration-color: #800000; background-color: #ffffff\">24.2</span><span style=\"color: #000000; text-decoration-color: #000000; background-color: #ffffff\"> -&gt; </span><span style=\"color: #008000; text-decoration-color: #008000; background-color: #ffffff\">25.1.1</span>\n",
       "<span style=\"font-weight: bold\">[</span><span style=\"color: #000080; text-decoration-color: #000080; background-color: #ffffff\">notice</span><span style=\"color: #000000; text-decoration-color: #000000; background-color: #ffffff; font-weight: bold\">]</span><span style=\"color: #000000; text-decoration-color: #000000; background-color: #ffffff\"> To update, run: </span><span style=\"color: #008000; text-decoration-color: #008000; background-color: #ffffff\">python.exe -m pip install --upgrade pip</span>\n",
       "</pre>\n"
      ],
      "text/plain": [
       "\n",
       "\u001b[1m[\u001b[0m\u001b[34;49mnotice\u001b[0m\u001b[1;39;49m]\u001b[0m\u001b[39;49m A new release of pip is available: \u001b[0m\u001b[31;49m24.2\u001b[0m\u001b[39;49m -> \u001b[0m\u001b[32;49m25.1.1\u001b[0m\n",
       "\u001b[1m[\u001b[0m\u001b[34;49mnotice\u001b[0m\u001b[1;39;49m]\u001b[0m\u001b[39;49m To update, run: \u001b[0m\u001b[32;49mpython.exe -m pip install --upgrade pip\u001b[0m\n"
      ]
     },
     "metadata": {},
     "output_type": "display_data"
    }
   ],
   "source": [
    "import pip\n",
    "pip.main(['install', 'sqlalchemy'])\n",
    "from sqlalchemy import create_engine\n",
    "import pandas as pd\n",
    "\n",
    "# Database connection parameters\n",
    "DB_HOST = 'localhost'  # or your server IP\n",
    "DB_PORT = '5432'       # default PostgreSQL port\n",
    "DB_NAME = 'job_prediction_db'  # replace with your database name\n",
    "DB_USER = 'postgres'       # replace with your username\n",
    "DB_PASSWORD = 'admin'   # replace with your password\n",
    "\n",
    "# Create connection string\n",
    "connection_string = f'postgresql://{DB_USER}:{DB_PASSWORD}@{DB_HOST}:{DB_PORT}/{DB_NAME}'\n",
    "\n",
    "# # Create engine\n",
    "# import pip\n",
    "# pip.main(['install', 'psycopg2-binary'])\n",
    "# engine = create_engine(connection_string)\n",
    "# # Save dataset to PostgreSQL\n",
    "# table_name = 'job_dataset_cleaned'  # name for your table\n",
    "\n",
    "# try:\n",
    "#     dataset.to_sql(table_name, engine, if_exists='replace', index=False)\n",
    "#     print(f\"✅ Dataset successfully saved to PostgreSQL table: {table_name}\")\n",
    "#     print(f\"📊 Saved {len(dataset)} rows and {len(dataset.columns)} columns\")\n",
    "# except Exception as e:\n",
    "#     print(f\"❌ Error saving to database: {e}\")"
   ]
  },
  {
   "cell_type": "code",
   "execution_count": 4,
   "id": "b7c30ac5",
   "metadata": {},
   "outputs": [
    {
     "name": "stdout",
     "output_type": "stream",
     "text": [
      "Requirement already satisfied: nltk in c:\\users\\dadia\\.vscode\\python-y2\\project\\job_prediction\\venv\\lib\\site-packages (3.9.1)\n",
      "Requirement already satisfied: click in c:\\users\\dadia\\.vscode\\python-y2\\project\\job_prediction\\venv\\lib\\site-packages (from nltk) (8.2.1)\n",
      "Requirement already satisfied: joblib in c:\\users\\dadia\\.vscode\\python-y2\\project\\job_prediction\\venv\\lib\\site-packages (from nltk) (1.5.1)\n",
      "Requirement already satisfied: regex>=2021.8.3 in c:\\users\\dadia\\.vscode\\python-y2\\project\\job_prediction\\venv\\lib\\site-packages (from nltk) (2024.11.6)\n",
      "Requirement already satisfied: tqdm in c:\\users\\dadia\\.vscode\\python-y2\\project\\job_prediction\\venv\\lib\\site-packages (from nltk) (4.67.1)\n",
      "Requirement already satisfied: colorama in c:\\users\\dadia\\.vscode\\python-y2\\project\\job_prediction\\venv\\lib\\site-packages (from click->nltk) (0.4.6)\n",
      "Note: you may need to restart the kernel to use updated packages.\n"
     ]
    },
    {
     "name": "stderr",
     "output_type": "stream",
     "text": [
      "\n",
      "[notice] A new release of pip is available: 24.2 -> 25.1.1\n",
      "[notice] To update, run: python.exe -m pip install --upgrade pip\n",
      "[nltk_data] Downloading package stopwords to\n",
      "[nltk_data]     C:\\Users\\dadia\\AppData\\Roaming\\nltk_data...\n",
      "[nltk_data]   Package stopwords is already up-to-date!\n"
     ]
    }
   ],
   "source": [
    "%pip install nltk\n",
    "\n",
    "import pandas as pd\n",
    "import string\n",
    "import joblib\n",
    "import nltk\n",
    "\n",
    "from sklearn.model_selection import train_test_split\n",
    "from sklearn.pipeline import Pipeline\n",
    "from sklearn.feature_extraction.text import TfidfVectorizer\n",
    "from sklearn.ensemble import RandomForestClassifier\n",
    "from sklearn.metrics import classification_report\n",
    "from sklearn.linear_model import LogisticRegression\n",
    "from sklearn.svm import SVC\n",
    "from sklearn.metrics import classification_report\n",
    "\n",
    "\n",
    "nltk.download('stopwords')\n",
    "from nltk.corpus import stopwords\n",
    "\n",
    "df = pd.read_csv('../ds/job_dataset_cleaned.csv')  \n",
    "\n",
    "# Combine important text fields into one feature column\n",
    "def combine_text_columns(row):\n",
    "    return ' '.join([\n",
    "        str(row['title']),\n",
    "        str(row['description']),\n",
    "        str(row['requirements']),\n",
    "        str(row['benefits'])\n",
    "    ])\n",
    "\n",
    "df['combined_text'] = df.apply(combine_text_columns, axis=1)\n",
    "\n",
    "# Text cleaning function\n",
    "def clean_text(text):\n",
    "    text = text.lower()\n",
    "    # Remove punctuation\n",
    "    text = ''.join(c for c in text if c not in string.punctuation)\n",
    "    # Remove stopwords\n",
    "    words = text.split()\n",
    "    words = [w for w in words if w not in stopwords.words('english')]\n",
    "    return ' '.join(words)\n",
    "\n",
    "df['cleaned_text'] = df['combined_text'].apply(clean_text)\n",
    "\n"
   ]
  },
  {
   "cell_type": "code",
   "execution_count": 30,
   "id": "52e0dc68",
   "metadata": {},
   "outputs": [
    {
     "name": "stdout",
     "output_type": "stream",
     "text": [
      "Model Accuracy Results:\n",
      "==============================\n",
      "Random Forest: 0.9806 (98.06%)\n",
      "Logistic Regression: 0.9161 (91.61%)\n",
      "SVM: 0.9613 (96.13%)\n"
     ]
    }
   ],
   "source": [
    "from sklearn.model_selection import train_test_split\n",
    "from sklearn.metrics import accuracy_score\n",
    "\n",
    "# Your data preparation\n",
    "X = df['cleaned_text']\n",
    "y = df['fraudulent']\n",
    "X_train, X_test, y_train, y_test = train_test_split(X, y, test_size=0.2, random_state=42)\n",
    "\n",
    "# Define the models\n",
    "models = {\n",
    "    'Random Forest': RandomForestClassifier(n_estimators=200, random_state=42, max_depth=20, max_features=10000),\n",
    "    'Logistic Regression': LogisticRegression(max_iter=1000, random_state=42),\n",
    "    'SVM': SVC(random_state=42)\n",
    "}\n",
    "\n",
    "# Train and evaluate each model\n",
    "print(\"Model Accuracy Results:\")\n",
    "print(\"=\" * 30)\n",
    "\n",
    "for name, model in models.items():\n",
    "    pipeline = Pipeline([\n",
    "        ('tfidf', TfidfVectorizer(max_features=5000, ngram_range=(1,2))),\n",
    "        ('clf', model)\n",
    "    ])\n",
    "    \n",
    "    pipeline.fit(X_train, y_train)\n",
    "    y_pred = pipeline.predict(X_test)\n",
    "    accuracy = accuracy_score(y_test, y_pred)\n",
    "    \n",
    "    print(f\"{name}: {accuracy:.4f} ({accuracy*100:.2f}%)\")"
   ]
  },
  {
   "cell_type": "code",
   "execution_count": 35,
   "id": "f1387c2f",
   "metadata": {},
   "outputs": [
    {
     "name": "stdout",
     "output_type": "stream",
     "text": [
      "Finding best model...\n",
      "\n",
      "Best Model: Random Forest\n",
      "Accuracy: 0.9806 (98.06%)\n",
      "\n",
      "Final Model Performance:\n",
      "              precision    recall  f1-score   support\n",
      "\n",
      "           0       0.98      1.00      0.99       142\n",
      "           1       1.00      0.77      0.87        13\n",
      "\n",
      "    accuracy                           0.98       155\n",
      "   macro avg       0.99      0.88      0.93       155\n",
      "weighted avg       0.98      0.98      0.98       155\n",
      "\n",
      "\n",
      "✅ Best model (Random Forest) saved as 'best_job_fraud_model.pkl'\n"
     ]
    }
   ],
   "source": [
    "# Find the best model\n",
    "best_accuracy = 0\n",
    "best_model_name = \"\"\n",
    "best_pipeline = None\n",
    "\n",
    "print(\"Finding best model...\")\n",
    "for name, model in models.items():\n",
    "    pipeline = Pipeline([\n",
    "        ('tfidf', TfidfVectorizer(max_features=8000, ngram_range=(1, 2))),\n",
    "        ('clf', model)\n",
    "    ])\n",
    "    \n",
    "    pipeline.fit(X_train, y_train)\n",
    "    y_pred = pipeline.predict(X_test)\n",
    "    accuracy = accuracy_score(y_test, y_pred)\n",
    "    \n",
    "    if accuracy > best_accuracy:\n",
    "        best_accuracy = accuracy\n",
    "        best_model_name = name\n",
    "        best_pipeline = pipeline\n",
    "\n",
    "# Train and evaluate the best model\n",
    "print(f\"\\nBest Model: {best_model_name}\")\n",
    "print(f\"Accuracy: {best_accuracy:.4f} ({best_accuracy*100:.2f}%)\")\n",
    "\n",
    "# Final predictions with best model\n",
    "final_predictions = best_pipeline.predict(X_test)\n",
    "print(f\"\\nFinal Model Performance:\")\n",
    "print(classification_report(y_test, final_predictions))\n",
    "\n",
    "# Save the best model (optional)\n",
    "import joblib\n",
    "joblib.dump(best_pipeline, 'best_job_fraud_model.pkl')\n",
    "print(f\"\\n✅ Best model ({best_model_name}) saved as 'best_job_fraud_model.pkl'\")\n"
   ]
  },
  {
   "cell_type": "code",
   "execution_count": 5,
   "id": "eddf8cf2",
   "metadata": {},
   "outputs": [
    {
     "name": "stdout",
     "output_type": "stream",
     "text": [
      "      emp_id  job_id                                              title  \\\n",
      "0  EMP000001       7                              Head of Content (m/f)   \n",
      "1  EMP000002      16                         VP of Sales - Vault Dragon   \n",
      "2  EMP000003      24  Vice President, Sales and Sponsorship (Busines...   \n",
      "3  EMP000004      99                                    IC&E Technician   \n",
      "4  EMP000005     103                            Marketing Administrator   \n",
      "5  EMP000006     135                Senior Business Development Manager   \n",
      "6  EMP000007     154                             Senior Project Manager   \n",
      "7  EMP000008     161                          Field Services Supervisor   \n",
      "8  EMP000009     180                                 Internal Recruiter   \n",
      "9  EMP000010     198                                 Software developer   \n",
      "\n",
      "                     location                      department   salary_range  \n",
      "0              DE, BE, Berlin                      ANDROIDPIT    20000-28000  \n",
      "1           SG, 01, Singapore                           Sales  120000-150000  \n",
      "2            US, CA, Carlsbad              Businessfriend.com  100000-120000  \n",
      "3           US, , Stocton, CA                    Oil & Energy   95000-115000  \n",
      "4           GB, WAR, Coventry                     Marketplace    15000-18000  \n",
      "5            GB, , Manchester  Sales and Business Development    70000-90000  \n",
      "6                GB, , London                      Production    28000-45000  \n",
      "7  US, WI, Western Wisconsin                 Field Operations    44000-57000  \n",
      "8             GB, LND, London                Playfair Capital    20000-40000  \n",
      "9              IN, MP, Indore            Software development  360000-600000  \n"
     ]
    }
   ],
   "source": [
    "import numpy as np\n",
    "df['emp_id'] = ['EMP'+ str(i).zfill(6) for i in range(1, len(df)+1)]\n",
    "cols = ['emp_id'] + [col for col in df.columns if col != 'emp_id']\n",
    "df = df[cols]\n",
    "print(df[['emp_id'] + list(df.columns[1:6])].head(10))"
   ]
  },
  {
   "cell_type": "code",
   "execution_count": 6,
   "id": "47de52ba",
   "metadata": {},
   "outputs": [
    {
     "name": "stdout",
     "output_type": "stream",
     "text": [
      "\n",
      "💾 Updated dataset saved as 'job_dataset_with_empid.csv'\n"
     ]
    }
   ],
   "source": [
    "df.to_csv('../ds/job_dataset_cleaned.csv', index=False)\n",
    "print(\"\\n💾 Updated dataset saved as 'job_dataset_with_empid.csv'\")"
   ]
  }
 ],
 "metadata": {
  "kernelspec": {
   "display_name": ".venv",
   "language": "python",
   "name": "python3"
  },
  "language_info": {
   "codemirror_mode": {
    "name": "ipython",
    "version": 3
   },
   "file_extension": ".py",
   "mimetype": "text/x-python",
   "name": "python",
   "nbconvert_exporter": "python",
   "pygments_lexer": "ipython3",
   "version": "3.12.6"
  }
 },
 "nbformat": 4,
 "nbformat_minor": 5
}
